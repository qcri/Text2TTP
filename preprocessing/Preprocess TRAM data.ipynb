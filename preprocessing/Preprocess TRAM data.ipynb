{
 "cells": [
  {
   "cell_type": "markdown",
   "id": "4c0e157d-1efc-4f82-a636-faae2e2090eb",
   "metadata": {},
   "source": [
    "# Preprocess TRAM training data"
   ]
  },
  {
   "cell_type": "code",
   "execution_count": 1,
   "id": "bfdd6fe8-aba8-4862-8c2b-5c8fd55befff",
   "metadata": {},
   "outputs": [],
   "source": [
    "import os\n",
    "import sys\n",
    "\n",
    "sys.path.append(os.path.abspath('../..'))\n",
    "\n",
    "import pandas as pd\n",
    "import json\n",
    "\n",
    "from libs import mitre"
   ]
  },
  {
   "cell_type": "markdown",
   "id": "15fc4fc4-d662-434a-87b1-44d6e6027132",
   "metadata": {},
   "source": [
    "## Load MITRE Attack"
   ]
  },
  {
   "cell_type": "code",
   "execution_count": 2,
   "id": "0baa72b6-8b23-4eec-a412-ba6a6320eed4",
   "metadata": {},
   "outputs": [],
   "source": [
    "techniques = mitre.list_techniques()\n",
    "\n",
    "tech_map = {}\n",
    "for tech_file in techniques:\n",
    "    tech = mitre.load_technique_file(tech_file)\n",
    "    tech_map[tech['ID']] = tech['Name']\n",
    "    \n",
    "tech_map['T1521'] = 'Encrypted Channel'\n",
    "tech_map['T1533'] = 'Data from Local System'\n",
    "tech_map['T1053.001'] = 'At'"
   ]
  },
  {
   "cell_type": "markdown",
   "id": "e201e9b9-9fea-4a54-aa43-984d91dff06e",
   "metadata": {},
   "source": [
    "## Load Data"
   ]
  },
  {
   "cell_type": "code",
   "execution_count": 3,
   "id": "fe2ef2cb-b4fb-4e3a-b2b6-e27c5daa6369",
   "metadata": {},
   "outputs": [],
   "source": [
    "filepath = \"../../data/mitre/tram_training_data.json\"\n",
    "\n",
    "with open(filepath, 'r') as f:\n",
    "    content = json.loads(f.read())"
   ]
  },
  {
   "cell_type": "markdown",
   "id": "57bad7f4-a12b-40d3-9c08-e42d2bf6a3c3",
   "metadata": {},
   "source": [
    "## Convert to a DataFrame"
   ]
  },
  {
   "cell_type": "code",
   "execution_count": 4,
   "id": "5416e9c2-8b06-4c6f-a1c0-a89e916e7c3d",
   "metadata": {},
   "outputs": [
    {
     "data": {
      "text/plain": [
       "dict_keys(['name', 'text', 'ml_model', 'created_on', 'updated_on', 'sentences'])"
      ]
     },
     "execution_count": 4,
     "metadata": {},
     "output_type": "execute_result"
    }
   ],
   "source": [
    "content.keys()"
   ]
  },
  {
   "cell_type": "code",
   "execution_count": 5,
   "id": "b4730103-20d7-4586-9dca-3cfde8abe0bb",
   "metadata": {},
   "outputs": [
    {
     "data": {
      "text/html": [
       "<div>\n",
       "<style scoped>\n",
       "    .dataframe tbody tr th:only-of-type {\n",
       "        vertical-align: middle;\n",
       "    }\n",
       "\n",
       "    .dataframe tbody tr th {\n",
       "        vertical-align: top;\n",
       "    }\n",
       "\n",
       "    .dataframe thead th {\n",
       "        text-align: right;\n",
       "    }\n",
       "</style>\n",
       "<table border=\"1\" class=\"dataframe\">\n",
       "  <thead>\n",
       "    <tr style=\"text-align: right;\">\n",
       "      <th></th>\n",
       "      <th>text</th>\n",
       "      <th>tech_id</th>\n",
       "      <th>tech_name</th>\n",
       "      <th>label</th>\n",
       "    </tr>\n",
       "  </thead>\n",
       "  <tbody>\n",
       "    <tr>\n",
       "      <th>0</th>\n",
       "      <td>From these reports, we know that the group use...</td>\n",
       "      <td>T1189</td>\n",
       "      <td>Drive-by Compromise</td>\n",
       "      <td>1</td>\n",
       "    </tr>\n",
       "    <tr>\n",
       "      <th>1</th>\n",
       "      <td>We believe this access was abused, for example...</td>\n",
       "      <td>T1189</td>\n",
       "      <td>Drive-by Compromise</td>\n",
       "      <td>1</td>\n",
       "    </tr>\n",
       "    <tr>\n",
       "      <th>2</th>\n",
       "      <td>What does the resulting watering hole look lik...</td>\n",
       "      <td>T1189</td>\n",
       "      <td>Drive-by Compromise</td>\n",
       "      <td>1</td>\n",
       "    </tr>\n",
       "    <tr>\n",
       "      <th>3</th>\n",
       "      <td>This targeting of third party organizations to...</td>\n",
       "      <td>T1189</td>\n",
       "      <td>Drive-by Compromise</td>\n",
       "      <td>1</td>\n",
       "    </tr>\n",
       "    <tr>\n",
       "      <th>4</th>\n",
       "      <td>Online news outlets and general websites were ...</td>\n",
       "      <td>T1189</td>\n",
       "      <td>Drive-by Compromise</td>\n",
       "      <td>1</td>\n",
       "    </tr>\n",
       "  </tbody>\n",
       "</table>\n",
       "</div>"
      ],
      "text/plain": [
       "                                                text tech_id  \\\n",
       "0  From these reports, we know that the group use...   T1189   \n",
       "1  We believe this access was abused, for example...   T1189   \n",
       "2  What does the resulting watering hole look lik...   T1189   \n",
       "3  This targeting of third party organizations to...   T1189   \n",
       "4  Online news outlets and general websites were ...   T1189   \n",
       "\n",
       "             tech_name  label  \n",
       "0  Drive-by Compromise      1  \n",
       "1  Drive-by Compromise      1  \n",
       "2  Drive-by Compromise      1  \n",
       "3  Drive-by Compromise      1  \n",
       "4  Drive-by Compromise      1  "
      ]
     },
     "execution_count": 5,
     "metadata": {},
     "output_type": "execute_result"
    }
   ],
   "source": [
    "data = []\n",
    "\n",
    "for sent in content['sentences']:\n",
    "    if len(sent['mappings']) > 0:\n",
    "        for mapping in sent['mappings']:\n",
    "            row = {\n",
    "                'text': sent['text'],\n",
    "                'tech_id': mapping['attack_id'],\n",
    "                'tech_name': tech_map[mapping['attack_id']],\n",
    "                'label': 1\n",
    "            }\n",
    "        data.append(row)\n",
    "    else:\n",
    "        row = {\n",
    "            'text': sent['text'],\n",
    "            'tech_id': 'TNONE',\n",
    "            'tech_name': 'N\\A',\n",
    "            'label': 0\n",
    "        }\n",
    "        data.append(row)\n",
    "\n",
    "data = pd.DataFrame(data)\n",
    "data.head()"
   ]
  },
  {
   "cell_type": "markdown",
   "id": "94b7f27c-c864-499c-9aa1-5337a8c75f33",
   "metadata": {},
   "source": [
    "## Summary"
   ]
  },
  {
   "cell_type": "code",
   "execution_count": 6,
   "id": "27c1dc7e-eee1-4fd2-a724-0b5361d958b9",
   "metadata": {},
   "outputs": [
    {
     "name": "stdout",
     "output_type": "stream",
     "text": [
      "No. of sentences: 12588\n",
      "No. of techniques: 142\n",
      "\n",
      "Distribution of labels: \n",
      "0    11063\n",
      "1     1525\n",
      "Name: label, dtype: int64\n"
     ]
    }
   ],
   "source": [
    "print(f'No. of sentences: {len(data)}')\n",
    "print(f'No. of techniques: {len(data[\"tech_id\"].drop_duplicates())}')\n",
    "print(f'\\nDistribution of labels: \\n{data[\"label\"].value_counts()}')"
   ]
  },
  {
   "cell_type": "markdown",
   "id": "b6e5eabb-d14d-4182-be74-3a44038d48da",
   "metadata": {},
   "source": [
    "## Export"
   ]
  },
  {
   "cell_type": "code",
   "execution_count": 7,
   "id": "c8fafb05-d5f8-4c29-a36d-16fe7cb87650",
   "metadata": {},
   "outputs": [],
   "source": [
    "data.to_csv('../../data/tram_training_dataset.csv', index=False)"
   ]
  },
  {
   "cell_type": "code",
   "execution_count": null,
   "id": "47c740d8-fdb0-40e8-a1b7-aa9a108de405",
   "metadata": {},
   "outputs": [],
   "source": []
  }
 ],
 "metadata": {
  "kernelspec": {
   "display_name": "cti_intel",
   "language": "python",
   "name": "cti_intel"
  },
  "language_info": {
   "codemirror_mode": {
    "name": "ipython",
    "version": 3
   },
   "file_extension": ".py",
   "mimetype": "text/x-python",
   "name": "python",
   "nbconvert_exporter": "python",
   "pygments_lexer": "ipython3",
   "version": "3.9.13"
  }
 },
 "nbformat": 4,
 "nbformat_minor": 5
}
