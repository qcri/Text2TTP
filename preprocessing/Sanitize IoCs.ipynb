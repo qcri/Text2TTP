{
 "cells": [
  {
   "cell_type": "markdown",
   "metadata": {},
   "source": [
    "# Sanitize Texts"
   ]
  },
  {
   "cell_type": "code",
   "execution_count": 1,
   "metadata": {
    "collapsed": false,
    "jupyter": {
     "outputs_hidden": false
    }
   },
   "outputs": [],
   "source": [
    "import os\n",
    "import sys\n",
    "\n",
    "sys.path.append(os.path.abspath(\"../..\"))\n",
    "\n",
    "import pandas as pd\n",
    "\n",
    "from libs import ioc"
   ]
  },
  {
   "cell_type": "code",
   "execution_count": 2,
   "metadata": {},
   "outputs": [
    {
     "name": "stdout",
     "output_type": "stream",
     "text": [
      "No. of workers: 64\n"
     ]
    }
   ],
   "source": [
    "mitre_kb_path = \"../../data/mitre/aggregated.csv\"\n",
    "report_sent_path = \"../../data/all_sent.csv\"\n",
    "\n",
    "num_workers = 64\n",
    "print(f\"No. of workers: {num_workers}\")"
   ]
  },
  {
   "cell_type": "markdown",
   "metadata": {},
   "source": [
    "## MITRE KB"
   ]
  },
  {
   "cell_type": "code",
   "execution_count": 3,
   "metadata": {
    "collapsed": false,
    "jupyter": {
     "outputs_hidden": false
    }
   },
   "outputs": [],
   "source": [
    "dataset = pd.read_csv(mitre_kb_path)"
   ]
  },
  {
   "cell_type": "code",
   "execution_count": 4,
   "metadata": {
    "collapsed": false,
    "jupyter": {
     "outputs_hidden": false
    }
   },
   "outputs": [
    {
     "name": "stderr",
     "output_type": "stream",
     "text": [
      "100%|██████████| 12006/12006 [00:11<00:00, 1071.76it/s]\n"
     ]
    },
    {
     "data": {
      "text/html": [
       "<div>\n",
       "<style scoped>\n",
       "    .dataframe tbody tr th:only-of-type {\n",
       "        vertical-align: middle;\n",
       "    }\n",
       "\n",
       "    .dataframe tbody tr th {\n",
       "        vertical-align: top;\n",
       "    }\n",
       "\n",
       "    .dataframe thead th {\n",
       "        text-align: right;\n",
       "    }\n",
       "</style>\n",
       "<table border=\"1\" class=\"dataframe\">\n",
       "  <thead>\n",
       "    <tr style=\"text-align: right;\">\n",
       "      <th></th>\n",
       "      <th>tech_id</th>\n",
       "      <th>tech_name</th>\n",
       "      <th>text</th>\n",
       "      <th>section</th>\n",
       "      <th>clean</th>\n",
       "      <th>sanitized</th>\n",
       "    </tr>\n",
       "  </thead>\n",
       "  <tbody>\n",
       "    <tr>\n",
       "      <th>0</th>\n",
       "      <td>T1564.002</td>\n",
       "      <td>Hide Artifacts: Hidden Users</td>\n",
       "      <td>Adversaries may use hidden users to hide the p...</td>\n",
       "      <td>Description</td>\n",
       "      <td>Adversaries may use hidden users to hide the p...</td>\n",
       "      <td>True</td>\n",
       "    </tr>\n",
       "    <tr>\n",
       "      <th>1</th>\n",
       "      <td>T1564.002</td>\n",
       "      <td>Hide Artifacts: Hidden Users</td>\n",
       "      <td>Dragonfly  has modified the Registry to hide c...</td>\n",
       "      <td>Procedure Examples</td>\n",
       "      <td>Dragonfly  has modified the Registry to hide c...</td>\n",
       "      <td>False</td>\n",
       "    </tr>\n",
       "    <tr>\n",
       "      <th>2</th>\n",
       "      <td>T1564.002</td>\n",
       "      <td>Hide Artifacts: Hidden Users</td>\n",
       "      <td>Kimsuky  has run  reg add ‘HKLM\\SOFTWARE\\Micro...</td>\n",
       "      <td>Procedure Examples</td>\n",
       "      <td>Kimsuky  has run  reg add ‘registry-key’ /v  t...</td>\n",
       "      <td>True</td>\n",
       "    </tr>\n",
       "    <tr>\n",
       "      <th>3</th>\n",
       "      <td>T1564.002</td>\n",
       "      <td>Hide Artifacts: Hidden Users</td>\n",
       "      <td>SMOKEDHAM  has modified the Registry to hide c...</td>\n",
       "      <td>Procedure Examples</td>\n",
       "      <td>SMOKEDHAM  has modified the Registry to hide c...</td>\n",
       "      <td>False</td>\n",
       "    </tr>\n",
       "    <tr>\n",
       "      <th>4</th>\n",
       "      <td>T1480</td>\n",
       "      <td>Execution Guardrails</td>\n",
       "      <td>Adversaries may use execution guardrails to co...</td>\n",
       "      <td>Description</td>\n",
       "      <td>Adversaries may use execution guardrails to co...</td>\n",
       "      <td>False</td>\n",
       "    </tr>\n",
       "    <tr>\n",
       "      <th>...</th>\n",
       "      <td>...</td>\n",
       "      <td>...</td>\n",
       "      <td>...</td>\n",
       "      <td>...</td>\n",
       "      <td>...</td>\n",
       "      <td>...</td>\n",
       "    </tr>\n",
       "    <tr>\n",
       "      <th>12001</th>\n",
       "      <td>T1557</td>\n",
       "      <td>Adversary-in-the-Middle</td>\n",
       "      <td>Kimsuky  has used modified versions of PHProxy...</td>\n",
       "      <td>Procedure Examples</td>\n",
       "      <td>Kimsuky  has used modified versions of PHProxy...</td>\n",
       "      <td>False</td>\n",
       "    </tr>\n",
       "    <tr>\n",
       "      <th>12002</th>\n",
       "      <td>T1212</td>\n",
       "      <td>Exploitation for Credential Access</td>\n",
       "      <td>Adversaries may exploit software vulnerabiliti...</td>\n",
       "      <td>Description</td>\n",
       "      <td>Adversaries may exploit software vulnerabiliti...</td>\n",
       "      <td>False</td>\n",
       "    </tr>\n",
       "    <tr>\n",
       "      <th>12003</th>\n",
       "      <td>T1588</td>\n",
       "      <td>Obtain Capabilities</td>\n",
       "      <td>Adversaries may buy and/or steal capabilities ...</td>\n",
       "      <td>Description</td>\n",
       "      <td>Adversaries may buy and/or steal capabilities ...</td>\n",
       "      <td>False</td>\n",
       "    </tr>\n",
       "    <tr>\n",
       "      <th>12004</th>\n",
       "      <td>T1137.005</td>\n",
       "      <td>Office Application Startup: Outlook Rules</td>\n",
       "      <td>Adversaries may abuse Microsoft Outlook rules ...</td>\n",
       "      <td>Description</td>\n",
       "      <td>Adversaries may abuse Microsoft Outlook rules ...</td>\n",
       "      <td>False</td>\n",
       "    </tr>\n",
       "    <tr>\n",
       "      <th>12005</th>\n",
       "      <td>T1137.005</td>\n",
       "      <td>Office Application Startup: Outlook Rules</td>\n",
       "      <td>Ruler  can be used to automate the abuse of Ou...</td>\n",
       "      <td>Procedure Examples</td>\n",
       "      <td>Ruler  can be used to automate the abuse of Ou...</td>\n",
       "      <td>False</td>\n",
       "    </tr>\n",
       "  </tbody>\n",
       "</table>\n",
       "<p>12006 rows × 6 columns</p>\n",
       "</div>"
      ],
      "text/plain": [
       "         tech_id                                  tech_name  \\\n",
       "0      T1564.002               Hide Artifacts: Hidden Users   \n",
       "1      T1564.002               Hide Artifacts: Hidden Users   \n",
       "2      T1564.002               Hide Artifacts: Hidden Users   \n",
       "3      T1564.002               Hide Artifacts: Hidden Users   \n",
       "4          T1480                       Execution Guardrails   \n",
       "...          ...                                        ...   \n",
       "12001      T1557                    Adversary-in-the-Middle   \n",
       "12002      T1212         Exploitation for Credential Access   \n",
       "12003      T1588                        Obtain Capabilities   \n",
       "12004  T1137.005  Office Application Startup: Outlook Rules   \n",
       "12005  T1137.005  Office Application Startup: Outlook Rules   \n",
       "\n",
       "                                                    text             section  \\\n",
       "0      Adversaries may use hidden users to hide the p...         Description   \n",
       "1      Dragonfly  has modified the Registry to hide c...  Procedure Examples   \n",
       "2      Kimsuky  has run  reg add ‘HKLM\\SOFTWARE\\Micro...  Procedure Examples   \n",
       "3      SMOKEDHAM  has modified the Registry to hide c...  Procedure Examples   \n",
       "4      Adversaries may use execution guardrails to co...         Description   \n",
       "...                                                  ...                 ...   \n",
       "12001  Kimsuky  has used modified versions of PHProxy...  Procedure Examples   \n",
       "12002  Adversaries may exploit software vulnerabiliti...         Description   \n",
       "12003  Adversaries may buy and/or steal capabilities ...         Description   \n",
       "12004  Adversaries may abuse Microsoft Outlook rules ...         Description   \n",
       "12005  Ruler  can be used to automate the abuse of Ou...  Procedure Examples   \n",
       "\n",
       "                                                   clean  sanitized  \n",
       "0      Adversaries may use hidden users to hide the p...       True  \n",
       "1      Dragonfly  has modified the Registry to hide c...      False  \n",
       "2      Kimsuky  has run  reg add ‘registry-key’ /v  t...       True  \n",
       "3      SMOKEDHAM  has modified the Registry to hide c...      False  \n",
       "4      Adversaries may use execution guardrails to co...      False  \n",
       "...                                                  ...        ...  \n",
       "12001  Kimsuky  has used modified versions of PHProxy...      False  \n",
       "12002  Adversaries may exploit software vulnerabiliti...      False  \n",
       "12003  Adversaries may buy and/or steal capabilities ...      False  \n",
       "12004  Adversaries may abuse Microsoft Outlook rules ...      False  \n",
       "12005  Ruler  can be used to automate the abuse of Ou...      False  \n",
       "\n",
       "[12006 rows x 6 columns]"
      ]
     },
     "execution_count": 4,
     "metadata": {},
     "output_type": "execute_result"
    }
   ],
   "source": [
    "dataset_sanitized = ioc.sanitize_iocs(dataset, num_workers=64)\n",
    "dataset_sanitized"
   ]
  },
  {
   "cell_type": "code",
   "execution_count": 5,
   "metadata": {
    "collapsed": false,
    "jupyter": {
     "outputs_hidden": false
    }
   },
   "outputs": [],
   "source": [
    "dataset_sanitized.to_csv(mitre_kb_path.replace('.csv', '.sanitized.csv'), index=False)"
   ]
  },
  {
   "cell_type": "markdown",
   "metadata": {},
   "source": [
    "## Report Sentences"
   ]
  },
  {
   "cell_type": "code",
   "execution_count": 6,
   "metadata": {
    "collapsed": false,
    "jupyter": {
     "outputs_hidden": false
    }
   },
   "outputs": [],
   "source": [
    "report_sent = pd.read_csv(report_sent_path)"
   ]
  },
  {
   "cell_type": "code",
   "execution_count": 7,
   "metadata": {
    "collapsed": false,
    "jupyter": {
     "outputs_hidden": false
    }
   },
   "outputs": [
    {
     "name": "stderr",
     "output_type": "stream",
     "text": [
      "100%|██████████| 3539/3539 [00:04<00:00, 878.68it/s] \n"
     ]
    },
    {
     "data": {
      "text/html": [
       "<div>\n",
       "<style scoped>\n",
       "    .dataframe tbody tr th:only-of-type {\n",
       "        vertical-align: middle;\n",
       "    }\n",
       "\n",
       "    .dataframe tbody tr th {\n",
       "        vertical-align: top;\n",
       "    }\n",
       "\n",
       "    .dataframe thead th {\n",
       "        text-align: right;\n",
       "    }\n",
       "</style>\n",
       "<table border=\"1\" class=\"dataframe\">\n",
       "  <thead>\n",
       "    <tr style=\"text-align: right;\">\n",
       "      <th></th>\n",
       "      <th>tech_id</th>\n",
       "      <th>text</th>\n",
       "      <th>tech_name</th>\n",
       "      <th>top_tech_id</th>\n",
       "      <th>dataset</th>\n",
       "      <th>clean</th>\n",
       "      <th>sanitized</th>\n",
       "    </tr>\n",
       "  </thead>\n",
       "  <tbody>\n",
       "    <tr>\n",
       "      <th>0</th>\n",
       "      <td>T1059.001</td>\n",
       "      <td>AAD Internals is a PowerShell module where I’v...</td>\n",
       "      <td>Command and Scripting Interpreter: PowerShell</td>\n",
       "      <td>T1059</td>\n",
       "      <td>manual</td>\n",
       "      <td>AAD Internals is a PowerShell module where I’v...</td>\n",
       "      <td>False</td>\n",
       "    </tr>\n",
       "    <tr>\n",
       "      <th>1</th>\n",
       "      <td>T1059.001</td>\n",
       "      <td>Run and the AppleSeed payload executed through...</td>\n",
       "      <td>Command and Scripting Interpreter: PowerShell</td>\n",
       "      <td>T1059</td>\n",
       "      <td>manual</td>\n",
       "      <td>Run and the AppleSeed payload executed through...</td>\n",
       "      <td>True</td>\n",
       "    </tr>\n",
       "    <tr>\n",
       "      <th>2</th>\n",
       "      <td>T1059.001</td>\n",
       "      <td>The shellcode invokes PowerShell to issue a HT...</td>\n",
       "      <td>Command and Scripting Interpreter: PowerShell</td>\n",
       "      <td>T1059</td>\n",
       "      <td>manual</td>\n",
       "      <td>The shellcode invokes PowerShell to issue a HT...</td>\n",
       "      <td>True</td>\n",
       "    </tr>\n",
       "    <tr>\n",
       "      <th>3</th>\n",
       "      <td>T1059.001</td>\n",
       "      <td>The following shows this unused command, which...</td>\n",
       "      <td>Command and Scripting Interpreter: PowerShell</td>\n",
       "      <td>T1059</td>\n",
       "      <td>manual</td>\n",
       "      <td>The following shows this unused command, which...</td>\n",
       "      <td>True</td>\n",
       "    </tr>\n",
       "    <tr>\n",
       "      <th>4</th>\n",
       "      <td>T1059.001</td>\n",
       "      <td>Using the “reverse shell” method mentioned abo...</td>\n",
       "      <td>Command and Scripting Interpreter: PowerShell</td>\n",
       "      <td>T1059</td>\n",
       "      <td>manual</td>\n",
       "      <td>Using the “reverse shell” method mentioned abo...</td>\n",
       "      <td>False</td>\n",
       "    </tr>\n",
       "    <tr>\n",
       "      <th>...</th>\n",
       "      <td>...</td>\n",
       "      <td>...</td>\n",
       "      <td>...</td>\n",
       "      <td>...</td>\n",
       "      <td>...</td>\n",
       "      <td>...</td>\n",
       "      <td>...</td>\n",
       "    </tr>\n",
       "    <tr>\n",
       "      <th>3534</th>\n",
       "      <td>T1546.014</td>\n",
       "      <td>emond</td>\n",
       "      <td>Event Triggered Execution: Emond</td>\n",
       "      <td>T1546</td>\n",
       "      <td>tram</td>\n",
       "      <td>emond</td>\n",
       "      <td>False</td>\n",
       "    </tr>\n",
       "    <tr>\n",
       "      <th>3535</th>\n",
       "      <td>T1218.002</td>\n",
       "      <td>CPL files</td>\n",
       "      <td>System Binary Proxy Execution: Control Panel</td>\n",
       "      <td>T1218</td>\n",
       "      <td>tram</td>\n",
       "      <td>CPL files</td>\n",
       "      <td>False</td>\n",
       "    </tr>\n",
       "    <tr>\n",
       "      <th>3536</th>\n",
       "      <td>T1218.002</td>\n",
       "      <td>.cpl</td>\n",
       "      <td>System Binary Proxy Execution: Control Panel</td>\n",
       "      <td>T1218</td>\n",
       "      <td>tram</td>\n",
       "      <td>.cpl</td>\n",
       "      <td>False</td>\n",
       "    </tr>\n",
       "    <tr>\n",
       "      <th>3537</th>\n",
       "      <td>T1546.011</td>\n",
       "      <td>application shim</td>\n",
       "      <td>Event Triggered Execution: Application Shimming</td>\n",
       "      <td>T1546</td>\n",
       "      <td>tram</td>\n",
       "      <td>application shim</td>\n",
       "      <td>False</td>\n",
       "    </tr>\n",
       "    <tr>\n",
       "      <th>3538</th>\n",
       "      <td>T1546.011</td>\n",
       "      <td>.sdb</td>\n",
       "      <td>Event Triggered Execution: Application Shimming</td>\n",
       "      <td>T1546</td>\n",
       "      <td>tram</td>\n",
       "      <td>.sdb</td>\n",
       "      <td>False</td>\n",
       "    </tr>\n",
       "  </tbody>\n",
       "</table>\n",
       "<p>3539 rows × 7 columns</p>\n",
       "</div>"
      ],
      "text/plain": [
       "        tech_id                                               text  \\\n",
       "0     T1059.001  AAD Internals is a PowerShell module where I’v...   \n",
       "1     T1059.001  Run and the AppleSeed payload executed through...   \n",
       "2     T1059.001  The shellcode invokes PowerShell to issue a HT...   \n",
       "3     T1059.001  The following shows this unused command, which...   \n",
       "4     T1059.001  Using the “reverse shell” method mentioned abo...   \n",
       "...         ...                                                ...   \n",
       "3534  T1546.014                                              emond   \n",
       "3535  T1218.002                                          CPL files   \n",
       "3536  T1218.002                                               .cpl   \n",
       "3537  T1546.011                                   application shim   \n",
       "3538  T1546.011                                               .sdb   \n",
       "\n",
       "                                            tech_name top_tech_id dataset  \\\n",
       "0       Command and Scripting Interpreter: PowerShell       T1059  manual   \n",
       "1       Command and Scripting Interpreter: PowerShell       T1059  manual   \n",
       "2       Command and Scripting Interpreter: PowerShell       T1059  manual   \n",
       "3       Command and Scripting Interpreter: PowerShell       T1059  manual   \n",
       "4       Command and Scripting Interpreter: PowerShell       T1059  manual   \n",
       "...                                               ...         ...     ...   \n",
       "3534                 Event Triggered Execution: Emond       T1546    tram   \n",
       "3535     System Binary Proxy Execution: Control Panel       T1218    tram   \n",
       "3536     System Binary Proxy Execution: Control Panel       T1218    tram   \n",
       "3537  Event Triggered Execution: Application Shimming       T1546    tram   \n",
       "3538  Event Triggered Execution: Application Shimming       T1546    tram   \n",
       "\n",
       "                                                  clean  sanitized  \n",
       "0     AAD Internals is a PowerShell module where I’v...      False  \n",
       "1     Run and the AppleSeed payload executed through...       True  \n",
       "2     The shellcode invokes PowerShell to issue a HT...       True  \n",
       "3     The following shows this unused command, which...       True  \n",
       "4     Using the “reverse shell” method mentioned abo...      False  \n",
       "...                                                 ...        ...  \n",
       "3534                                              emond      False  \n",
       "3535                                          CPL files      False  \n",
       "3536                                               .cpl      False  \n",
       "3537                                   application shim      False  \n",
       "3538                                               .sdb      False  \n",
       "\n",
       "[3539 rows x 7 columns]"
      ]
     },
     "execution_count": 7,
     "metadata": {},
     "output_type": "execute_result"
    }
   ],
   "source": [
    "report_sent_sanitized = ioc.sanitize_iocs(report_sent, num_workers=64)\n",
    "report_sent_sanitized"
   ]
  },
  {
   "cell_type": "code",
   "execution_count": 8,
   "metadata": {
    "collapsed": false,
    "jupyter": {
     "outputs_hidden": false
    }
   },
   "outputs": [],
   "source": [
    "report_sent_sanitized.to_csv(report_sent_path.replace('.csv', '.sanitized.csv'), index=False)"
   ]
  }
 ],
 "metadata": {
  "kernelspec": {
   "display_name": "Python 3 (ipykernel)",
   "language": "python",
   "name": "python3"
  },
  "language_info": {
   "codemirror_mode": {
    "name": "ipython",
    "version": 3
   },
   "file_extension": ".py",
   "mimetype": "text/x-python",
   "name": "python",
   "nbconvert_exporter": "python",
   "pygments_lexer": "ipython3",
   "version": "3.9.13"
  }
 },
 "nbformat": 4,
 "nbformat_minor": 4
}
