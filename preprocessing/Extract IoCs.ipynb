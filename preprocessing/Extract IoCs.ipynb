{
 "cells": [
  {
   "cell_type": "markdown",
   "metadata": {},
   "source": [
    "# Extract IOC from MITRE Knowledge Base"
   ]
  },
  {
   "cell_type": "code",
   "execution_count": 1,
   "metadata": {
    "collapsed": false,
    "jupyter": {
     "outputs_hidden": false
    }
   },
   "outputs": [],
   "source": [
    "import os\n",
    "import sys\n",
    "\n",
    "sys.path.append(os.path.abspath(\"../..\"))\n",
    "\n",
    "import matplotlib.pyplot as plt\n",
    "import pandas as pd\n",
    "import seaborn as sns\n",
    "from libs import ioc"
   ]
  },
  {
   "cell_type": "code",
   "execution_count": 2,
   "metadata": {},
   "outputs": [
    {
     "name": "stdout",
     "output_type": "stream",
     "text": [
      "No. of workers: 64\n"
     ]
    }
   ],
   "source": [
    "mitre_kb_path = \"../../data/mitre/aggregated.csv\"\n",
    "report_sent_path = \"../../data/all_sent.csv\"\n",
    "\n",
    "num_workers = 64\n",
    "print(f\"No. of workers: {num_workers}\")"
   ]
  },
  {
   "cell_type": "markdown",
   "metadata": {},
   "source": [
    "## Load MITRE KB"
   ]
  },
  {
   "cell_type": "code",
   "execution_count": 3,
   "metadata": {
    "collapsed": false,
    "jupyter": {
     "outputs_hidden": false
    }
   },
   "outputs": [
    {
     "data": {
      "text/html": [
       "<div>\n",
       "<style scoped>\n",
       "    .dataframe tbody tr th:only-of-type {\n",
       "        vertical-align: middle;\n",
       "    }\n",
       "\n",
       "    .dataframe tbody tr th {\n",
       "        vertical-align: top;\n",
       "    }\n",
       "\n",
       "    .dataframe thead th {\n",
       "        text-align: right;\n",
       "    }\n",
       "</style>\n",
       "<table border=\"1\" class=\"dataframe\">\n",
       "  <thead>\n",
       "    <tr style=\"text-align: right;\">\n",
       "      <th></th>\n",
       "      <th>tech_id</th>\n",
       "      <th>tech_name</th>\n",
       "      <th>text</th>\n",
       "      <th>section</th>\n",
       "    </tr>\n",
       "  </thead>\n",
       "  <tbody>\n",
       "    <tr>\n",
       "      <th>0</th>\n",
       "      <td>T1564.002</td>\n",
       "      <td>Hidden Users</td>\n",
       "      <td>Adversaries may use hidden users to hide the p...</td>\n",
       "      <td>Description</td>\n",
       "    </tr>\n",
       "    <tr>\n",
       "      <th>1</th>\n",
       "      <td>T1564.002</td>\n",
       "      <td>Hidden Users</td>\n",
       "      <td>Dragonfly  has modified the Registry to hide c...</td>\n",
       "      <td>Procedure Examples</td>\n",
       "    </tr>\n",
       "    <tr>\n",
       "      <th>2</th>\n",
       "      <td>T1564.002</td>\n",
       "      <td>Hidden Users</td>\n",
       "      <td>Kimsuky  has run  reg add ‘HKLM\\SOFTWARE\\Micro...</td>\n",
       "      <td>Procedure Examples</td>\n",
       "    </tr>\n",
       "    <tr>\n",
       "      <th>3</th>\n",
       "      <td>T1564.002</td>\n",
       "      <td>Hidden Users</td>\n",
       "      <td>SMOKEDHAM  has modified the Registry to hide c...</td>\n",
       "      <td>Procedure Examples</td>\n",
       "    </tr>\n",
       "    <tr>\n",
       "      <th>4</th>\n",
       "      <td>T1480</td>\n",
       "      <td>Execution Guardrails</td>\n",
       "      <td>Adversaries may use execution guardrails to co...</td>\n",
       "      <td>Description</td>\n",
       "    </tr>\n",
       "  </tbody>\n",
       "</table>\n",
       "</div>"
      ],
      "text/plain": [
       "     tech_id             tech_name  \\\n",
       "0  T1564.002          Hidden Users   \n",
       "1  T1564.002          Hidden Users   \n",
       "2  T1564.002          Hidden Users   \n",
       "3  T1564.002          Hidden Users   \n",
       "4      T1480  Execution Guardrails   \n",
       "\n",
       "                                                text             section  \n",
       "0  Adversaries may use hidden users to hide the p...         Description  \n",
       "1  Dragonfly  has modified the Registry to hide c...  Procedure Examples  \n",
       "2  Kimsuky  has run  reg add ‘HKLM\\SOFTWARE\\Micro...  Procedure Examples  \n",
       "3  SMOKEDHAM  has modified the Registry to hide c...  Procedure Examples  \n",
       "4  Adversaries may use execution guardrails to co...         Description  "
      ]
     },
     "execution_count": 3,
     "metadata": {},
     "output_type": "execute_result"
    }
   ],
   "source": [
    "dataset = pd.read_csv(mitre_kb_path)\n",
    "dataset.head()"
   ]
  },
  {
   "cell_type": "code",
   "execution_count": 4,
   "metadata": {
    "collapsed": false,
    "jupyter": {
     "outputs_hidden": false
    }
   },
   "outputs": [
    {
     "name": "stderr",
     "output_type": "stream",
     "text": [
      "100%|██████████| 12006/12006 [00:29<00:00, 401.17it/s]\n"
     ]
    }
   ],
   "source": [
    "dataset_records = dataset.to_dict(orient=\"records\")\n",
    "\n",
    "dataset_results = ioc.extract_iocs(dataset_records, num_workers=num_workers)\n",
    "dataset_results_df = pd.DataFrame(dataset_results)"
   ]
  },
  {
   "cell_type": "code",
   "execution_count": 5,
   "metadata": {
    "collapsed": false,
    "jupyter": {
     "outputs_hidden": false
    }
   },
   "outputs": [
    {
     "data": {
      "image/png": "[encoded data removed]",
      "text/plain": [
       "<Figure size 640x480 with 1 Axes>"
      ]
     },
     "metadata": {},
     "output_type": "display_data"
    },
    {
     "name": "stdout",
     "output_type": "stream",
     "text": [
      "No. sentences with IOCs found: 1459 (12.15%)\n",
      "No. IOCs found: 1459\n",
      "No. report sentences: 12006\n"
     ]
    }
   ],
   "source": [
    "sns.histplot(data=dataset_results_df, x=\"ioc\")\n",
    "plt.xticks(rotation=90)\n",
    "plt.show()\n",
    "\n",
    "print(\n",
    "    f\"No. sentences with IOCs found: {len(dataset_results_df)} ({len(dataset_results_df) * 100/len(dataset):.2f}%)\"\n",
    ")\n",
    "print(\"No. IOCs found:\", len(dataset_results_df))\n",
    "print(\"No. report sentences:\", len(dataset))"
   ]
  },
  {
   "cell_type": "code",
   "execution_count": 6,
   "metadata": {
    "collapsed": false,
    "jupyter": {
     "outputs_hidden": false
    }
   },
   "outputs": [],
   "source": [
    "dataset_results_df.to_csv(mitre_kb_path.replace('.csv', '.ioc.csv'), index=False)"
   ]
  },
  {
   "cell_type": "code",
   "execution_count": 7,
   "metadata": {
    "collapsed": false,
    "jupyter": {
     "outputs_hidden": false
    }
   },
   "outputs": [],
   "source": [
    "# fail"
   ]
  },
  {
   "cell_type": "markdown",
   "metadata": {},
   "source": [
    "## Load Report Sentences"
   ]
  },
  {
   "cell_type": "code",
   "execution_count": 8,
   "metadata": {
    "collapsed": false,
    "jupyter": {
     "outputs_hidden": false
    }
   },
   "outputs": [
    {
     "name": "stdout",
     "output_type": "stream",
     "text": [
      "No. report sentences: 3539\n"
     ]
    },
    {
     "data": {
      "text/html": [
       "<div>\n",
       "<style scoped>\n",
       "    .dataframe tbody tr th:only-of-type {\n",
       "        vertical-align: middle;\n",
       "    }\n",
       "\n",
       "    .dataframe tbody tr th {\n",
       "        vertical-align: top;\n",
       "    }\n",
       "\n",
       "    .dataframe thead th {\n",
       "        text-align: right;\n",
       "    }\n",
       "</style>\n",
       "<table border=\"1\" class=\"dataframe\">\n",
       "  <thead>\n",
       "    <tr style=\"text-align: right;\">\n",
       "      <th></th>\n",
       "      <th>tech_id</th>\n",
       "      <th>text</th>\n",
       "      <th>tech_name</th>\n",
       "      <th>top_tech_id</th>\n",
       "      <th>dataset</th>\n",
       "    </tr>\n",
       "  </thead>\n",
       "  <tbody>\n",
       "    <tr>\n",
       "      <th>0</th>\n",
       "      <td>T1059.001</td>\n",
       "      <td>AAD Internals is a PowerShell module where I’v...</td>\n",
       "      <td>PowerShell</td>\n",
       "      <td>T1059</td>\n",
       "      <td>manual</td>\n",
       "    </tr>\n",
       "    <tr>\n",
       "      <th>1</th>\n",
       "      <td>T1059.001</td>\n",
       "      <td>Run and the AppleSeed payload executed through...</td>\n",
       "      <td>PowerShell</td>\n",
       "      <td>T1059</td>\n",
       "      <td>manual</td>\n",
       "    </tr>\n",
       "    <tr>\n",
       "      <th>2</th>\n",
       "      <td>T1059.001</td>\n",
       "      <td>The shellcode invokes PowerShell to issue a HT...</td>\n",
       "      <td>PowerShell</td>\n",
       "      <td>T1059</td>\n",
       "      <td>manual</td>\n",
       "    </tr>\n",
       "    <tr>\n",
       "      <th>3</th>\n",
       "      <td>T1059.001</td>\n",
       "      <td>The following shows this unused command, which...</td>\n",
       "      <td>PowerShell</td>\n",
       "      <td>T1059</td>\n",
       "      <td>manual</td>\n",
       "    </tr>\n",
       "    <tr>\n",
       "      <th>4</th>\n",
       "      <td>T1059.001</td>\n",
       "      <td>Using the “reverse shell” method mentioned abo...</td>\n",
       "      <td>PowerShell</td>\n",
       "      <td>T1059</td>\n",
       "      <td>manual</td>\n",
       "    </tr>\n",
       "    <tr>\n",
       "      <th>...</th>\n",
       "      <td>...</td>\n",
       "      <td>...</td>\n",
       "      <td>...</td>\n",
       "      <td>...</td>\n",
       "      <td>...</td>\n",
       "    </tr>\n",
       "    <tr>\n",
       "      <th>3534</th>\n",
       "      <td>T1546.014</td>\n",
       "      <td>emond</td>\n",
       "      <td>Emond</td>\n",
       "      <td>T1546</td>\n",
       "      <td>tram</td>\n",
       "    </tr>\n",
       "    <tr>\n",
       "      <th>3535</th>\n",
       "      <td>T1218.002</td>\n",
       "      <td>CPL files</td>\n",
       "      <td>Control Panel</td>\n",
       "      <td>T1218</td>\n",
       "      <td>tram</td>\n",
       "    </tr>\n",
       "    <tr>\n",
       "      <th>3536</th>\n",
       "      <td>T1218.002</td>\n",
       "      <td>.cpl</td>\n",
       "      <td>Control Panel</td>\n",
       "      <td>T1218</td>\n",
       "      <td>tram</td>\n",
       "    </tr>\n",
       "    <tr>\n",
       "      <th>3537</th>\n",
       "      <td>T1546.011</td>\n",
       "      <td>application shim</td>\n",
       "      <td>Application Shimming</td>\n",
       "      <td>T1546</td>\n",
       "      <td>tram</td>\n",
       "    </tr>\n",
       "    <tr>\n",
       "      <th>3538</th>\n",
       "      <td>T1546.011</td>\n",
       "      <td>.sdb</td>\n",
       "      <td>Application Shimming</td>\n",
       "      <td>T1546</td>\n",
       "      <td>tram</td>\n",
       "    </tr>\n",
       "  </tbody>\n",
       "</table>\n",
       "<p>3539 rows × 5 columns</p>\n",
       "</div>"
      ],
      "text/plain": [
       "        tech_id                                               text  \\\n",
       "0     T1059.001  AAD Internals is a PowerShell module where I’v...   \n",
       "1     T1059.001  Run and the AppleSeed payload executed through...   \n",
       "2     T1059.001  The shellcode invokes PowerShell to issue a HT...   \n",
       "3     T1059.001  The following shows this unused command, which...   \n",
       "4     T1059.001  Using the “reverse shell” method mentioned abo...   \n",
       "...         ...                                                ...   \n",
       "3534  T1546.014                                              emond   \n",
       "3535  T1218.002                                          CPL files   \n",
       "3536  T1218.002                                               .cpl   \n",
       "3537  T1546.011                                   application shim   \n",
       "3538  T1546.011                                               .sdb   \n",
       "\n",
       "                 tech_name top_tech_id dataset  \n",
       "0               PowerShell       T1059  manual  \n",
       "1               PowerShell       T1059  manual  \n",
       "2               PowerShell       T1059  manual  \n",
       "3               PowerShell       T1059  manual  \n",
       "4               PowerShell       T1059  manual  \n",
       "...                    ...         ...     ...  \n",
       "3534                 Emond       T1546    tram  \n",
       "3535         Control Panel       T1218    tram  \n",
       "3536         Control Panel       T1218    tram  \n",
       "3537  Application Shimming       T1546    tram  \n",
       "3538  Application Shimming       T1546    tram  \n",
       "\n",
       "[3539 rows x 5 columns]"
      ]
     },
     "execution_count": 8,
     "metadata": {},
     "output_type": "execute_result"
    }
   ],
   "source": [
    "report_sent = pd.read_csv(report_sent_path)\n",
    "\n",
    "print(f\"No. report sentences: {len(report_sent)}\")\n",
    "report_sent"
   ]
  },
  {
   "cell_type": "code",
   "execution_count": 9,
   "metadata": {},
   "outputs": [
    {
     "name": "stderr",
     "output_type": "stream",
     "text": [
      "100%|██████████| 3539/3539 [00:10<00:00, 323.88it/s]\n"
     ]
    }
   ],
   "source": [
    "report_records = report_sent.to_dict(orient=\"records\")\n",
    "\n",
    "report_results = ioc.extract_iocs(report_records, num_workers=num_workers)\n",
    "report_results_df = pd.DataFrame(report_results)"
   ]
  },
  {
   "cell_type": "code",
   "execution_count": 10,
   "metadata": {
    "collapsed": false,
    "jupyter": {
     "outputs_hidden": false
    }
   },
   "outputs": [
    {
     "data": {
      "image/png": "[encoded data removed]",
      "text/plain": [
       "<Figure size 640x480 with 1 Axes>"
      ]
     },
     "metadata": {},
     "output_type": "display_data"
    },
    {
     "name": "stdout",
     "output_type": "stream",
     "text": [
      "No. sentences with IOCs found: 1399 (39.53%)\n",
      "No. IOCs found: 1399\n",
      "No. report sentences: 3539\n"
     ]
    }
   ],
   "source": [
    "sns.histplot(data=report_results_df, x=\"ioc\")\n",
    "plt.xticks(rotation=90)\n",
    "plt.show()\n",
    "\n",
    "print(\n",
    "    f\"No. sentences with IOCs found: {len(report_results_df)} ({len(report_results_df) * 100/len(report_sent):.2f}%)\"\n",
    ")\n",
    "print(\"No. IOCs found:\", len(report_results_df))\n",
    "print(\"No. report sentences:\", len(report_sent))"
   ]
  },
  {
   "cell_type": "code",
   "execution_count": 11,
   "metadata": {
    "collapsed": false,
    "jupyter": {
     "outputs_hidden": false
    }
   },
   "outputs": [],
   "source": [
    "report_results_df.to_csv(report_sent_path.replace(\".csv\", \".ioc.csv\"), index=False)"
   ]
  },
  {
   "cell_type": "code",
   "execution_count": null,
   "metadata": {
    "collapsed": false,
    "jupyter": {
     "outputs_hidden": false
    }
   },
   "outputs": [],
   "source": []
  }
 ],
 "metadata": {
  "kernelspec": {
   "display_name": "cti_intel",
   "language": "python",
   "name": "cti_intel"
  },
  "language_info": {
   "codemirror_mode": {
    "name": "ipython",
    "version": 3
   },
   "file_extension": ".py",
   "mimetype": "text/x-python",
   "name": "python",
   "nbconvert_exporter": "python",
   "pygments_lexer": "ipython3",
   "version": "3.9.13"
  }
 },
 "nbformat": 4,
 "nbformat_minor": 4
}
